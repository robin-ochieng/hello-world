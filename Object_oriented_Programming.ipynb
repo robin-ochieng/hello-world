{
  "nbformat": 4,
  "nbformat_minor": 0,
  "metadata": {
    "colab": {
      "provenance": [],
      "collapsed_sections": [],
      "authorship_tag": "ABX9TyNdCg6ronfMP9cAsP+bb3pF",
      "include_colab_link": true
    },
    "kernelspec": {
      "name": "python3",
      "display_name": "Python 3"
    },
    "language_info": {
      "name": "python"
    }
  },
  "cells": [
    {
      "cell_type": "markdown",
      "metadata": {
        "id": "view-in-github",
        "colab_type": "text"
      },
      "source": [
        "<a href=\"https://colab.research.google.com/github/robin-ochieng/hello-world/blob/master/Object_oriented_Programming.ipynb\" target=\"_parent\"><img src=\"https://colab.research.google.com/assets/colab-badge.svg\" alt=\"Open In Colab\"/></a>"
      ]
    },
    {
      "cell_type": "code",
      "execution_count": 40,
      "metadata": {
        "id": "uyajEiz8QM_e"
      },
      "outputs": [],
      "source": [
        "class Dog():\n",
        "  def __init__(self,name, age):\n",
        "    self.name = name\n",
        "    self.age = age\n",
        "  \n",
        "  def get_name(self):\n",
        "    return self.name\n",
        "    return x + 1\n",
        "  def get_age(self):\n",
        "    return self.age\n",
        "  def set_age(self, age):\n",
        "    self.age = age\n",
        "\n"
      ]
    },
    {
      "cell_type": "code",
      "source": [
        "d = Dog('Tim', 34)\n",
        "d2 = Dog('bill',12)"
      ],
      "metadata": {
        "id": "Ox93r793SXTg"
      },
      "execution_count": 41,
      "outputs": []
    },
    {
      "cell_type": "code",
      "source": [
        "print(d.get_name())"
      ],
      "metadata": {
        "colab": {
          "base_uri": "https://localhost:8080/"
        },
        "id": "Y0n_k-7OQbwP",
        "outputId": "e9089e4c-f6ab-4571-c78b-61d5b502ccc2"
      },
      "execution_count": 42,
      "outputs": [
        {
          "output_type": "stream",
          "name": "stdout",
          "text": [
            "Tim\n"
          ]
        }
      ]
    },
    {
      "cell_type": "code",
      "source": [
        "print(d.name)"
      ],
      "metadata": {
        "colab": {
          "base_uri": "https://localhost:8080/"
        },
        "id": "sZPgfbhDUddf",
        "outputId": "df567c64-7068-4517-d3af-ba1e283cd075"
      },
      "execution_count": 43,
      "outputs": [
        {
          "output_type": "stream",
          "name": "stdout",
          "text": [
            "Tim\n"
          ]
        }
      ]
    },
    {
      "cell_type": "code",
      "source": [
        "print(d2.name)"
      ],
      "metadata": {
        "colab": {
          "base_uri": "https://localhost:8080/"
        },
        "id": "9mGXev8GRcb7",
        "outputId": "b76a2fca-569a-4c9e-f8d3-2b61a2248120"
      },
      "execution_count": 44,
      "outputs": [
        {
          "output_type": "stream",
          "name": "stdout",
          "text": [
            "bill\n"
          ]
        }
      ]
    },
    {
      "cell_type": "code",
      "source": [
        "d2.get_age()"
      ],
      "metadata": {
        "colab": {
          "base_uri": "https://localhost:8080/"
        },
        "id": "DtzYMkSgU7I-",
        "outputId": "929dfdec-6655-4111-d7c8-0d7f95239ec4"
      },
      "execution_count": 45,
      "outputs": [
        {
          "output_type": "execute_result",
          "data": {
            "text/plain": [
              "12"
            ]
          },
          "metadata": {},
          "execution_count": 45
        }
      ]
    },
    {
      "cell_type": "code",
      "source": [
        "d.set_age(25)"
      ],
      "metadata": {
        "id": "T2q8poi-VgxV"
      },
      "execution_count": 46,
      "outputs": []
    },
    {
      "cell_type": "code",
      "source": [
        "d.get_age()"
      ],
      "metadata": {
        "colab": {
          "base_uri": "https://localhost:8080/"
        },
        "id": "W_Qrc4JTVp2l",
        "outputId": "eefc9069-2fc0-4a83-f484-22332d793cc5"
      },
      "execution_count": 47,
      "outputs": [
        {
          "output_type": "execute_result",
          "data": {
            "text/plain": [
              "25"
            ]
          },
          "metadata": {},
          "execution_count": 47
        }
      ]
    },
    {
      "cell_type": "code",
      "source": [],
      "metadata": {
        "id": "SxeCVUhloP2c"
      },
      "execution_count": 47,
      "outputs": []
    },
    {
      "cell_type": "markdown",
      "source": [
        "u"
      ],
      "metadata": {
        "id": "5vO0MFALohaj"
      }
    },
    {
      "cell_type": "markdown",
      "source": [
        "## using multiple classes "
      ],
      "metadata": {
        "id": "tC4zbAXCohsd"
      }
    },
    {
      "cell_type": "code",
      "source": [
        "class Student:\n",
        "  def __init__(self,name,age,grade):\n",
        "    self.name = name\n",
        "    self.age = age\n",
        "    self.grade = grade # 0 - 100\n",
        "\n",
        "  def get_grade(self):\n",
        "    return self.grade\n",
        "\n",
        "\n",
        "class Course:\n",
        "  def __init__(self, name, max_students):\n",
        "    self.name = name\n",
        "    self.max_students = max_students\n",
        "    self.students = []\n",
        "\n",
        "  def add_student(self, student):\n",
        "    if len(self.students) < self.max_students:\n",
        "      self.students.append(student)\n",
        "      return True\n",
        "    return False\n",
        "\n",
        "  def get_average_grade(self):\n",
        "    value = 0 \n",
        "    for student in self.students:\n",
        "      value += student.get_grade()\n",
        "\n",
        "    return value / len(self.students)\n",
        "\n",
        "\n",
        "s1 = Student('Robin', 19, 98)\n",
        "s2 = Student('Pinto', 20, 79)\n",
        "s3 = Student('Bill', 20, 88)\n",
        "\n",
        "course = Course('science', 2)\n",
        "course.add_student(s1)\n",
        "course.add_student(s2)\n",
        "print(course.students)\n",
        "print(course.get_average_grade())\n",
        "\n",
        "\n",
        "\n",
        "\n",
        "\n",
        "\n"
      ],
      "metadata": {
        "id": "vKRqD1djsflQ",
        "colab": {
          "base_uri": "https://localhost:8080/"
        },
        "outputId": "afe79811-94df-4df7-f73f-17cb1ca8a3ab"
      },
      "execution_count": 48,
      "outputs": [
        {
          "output_type": "stream",
          "name": "stdout",
          "text": [
            "[<__main__.Student object at 0x7ff941e7ea50>, <__main__.Student object at 0x7ff941e7e7d0>]\n",
            "88.5\n"
          ]
        }
      ]
    },
    {
      "cell_type": "code",
      "source": [],
      "metadata": {
        "id": "8sx65vsJuT14"
      },
      "execution_count": 48,
      "outputs": []
    },
    {
      "cell_type": "markdown",
      "source": [
        "## inheritence in classes"
      ],
      "metadata": {
        "id": "sIiZMUwLOJ8v"
      }
    },
    {
      "cell_type": "code",
      "source": [
        "class Cat:\n",
        "  def __init__(self, name, age):\n",
        "    self.name = name\n",
        "    self.age = age\n",
        "\n",
        "  def speak(self):\n",
        "    print('Meaw')  \n",
        "\n",
        "class Dog:\n",
        "  def __init__(self, name, age):\n",
        "    self.name = name\n",
        "    self.age = age\n",
        "\n",
        "  def speak(self):\n",
        "    print('bark')  \n"
      ],
      "metadata": {
        "id": "w1vhrde1OJoh"
      },
      "execution_count": 49,
      "outputs": []
    },
    {
      "cell_type": "code",
      "source": [
        "cat1 = Cat('Mamba', 1)\n",
        "cat1.speak()"
      ],
      "metadata": {
        "colab": {
          "base_uri": "https://localhost:8080/"
        },
        "id": "sREmUrStkFz0",
        "outputId": "8491e2d3-92f4-4efa-947a-3c581d23990d"
      },
      "execution_count": 50,
      "outputs": [
        {
          "output_type": "stream",
          "name": "stdout",
          "text": [
            "Meaw\n"
          ]
        }
      ]
    },
    {
      "cell_type": "code",
      "source": [
        "class Pet:\n",
        "  def __init__(self, name, age):\n",
        "    self.name = name\n",
        "    self.age = age\n",
        "\n",
        "  def show(self):\n",
        "    print(f'I am {self.name} and I am {self.age} Months old')  \n",
        "  def speak(self):\n",
        "    print(i)\n",
        "class Cat(Pet):\n",
        "  def __init__(self,name, age, color):\n",
        "    super().__init__(name, age)\n",
        "    self.color = color\n",
        "\n",
        "  def speak(self):\n",
        "      print('Meaw')  \n",
        "\n",
        "  def show(self):\n",
        "    print(f'I am {self.name} and I am {self.age} Months old and I am {self.color} color')      \n",
        "\n",
        "class Dog(Pet):\n",
        "  def speak(self):\n",
        "      print('bark') \n"
      ],
      "metadata": {
        "id": "woJrO6SYlh2B"
      },
      "execution_count": 60,
      "outputs": []
    },
    {
      "cell_type": "code",
      "source": [
        "Pet1 = Pet('Mamba', 2)\n",
        "Pet1.show()\n",
        "\n",
        "\n",
        "cat1 = Cat('Bill', 14,'red')\n",
        "cat1.show()\n",
        "\n",
        "dog1 = Dog('rooney', 88)\n",
        "dog1.show()"
      ],
      "metadata": {
        "colab": {
          "base_uri": "https://localhost:8080/"
        },
        "id": "l5UQZiz8muZC",
        "outputId": "94ca656c-1fc4-4fc7-dbe5-d89e4ddf2cf1"
      },
      "execution_count": 62,
      "outputs": [
        {
          "output_type": "stream",
          "name": "stdout",
          "text": [
            "I am Mamba and I am 2 Months old\n",
            "I am Bill and I am 14 Months old and I am red color\n",
            "I am rooney and I am 88 Months old\n"
          ]
        }
      ]
    },
    {
      "cell_type": "markdown",
      "source": [
        "## Class Methods and Class Attributes"
      ],
      "metadata": {
        "id": "_WrGQbcFscm5"
      }
    },
    {
      "cell_type": "markdown",
      "source": [
        "## 1). Class Attributes"
      ],
      "metadata": {
        "id": "GnjdYjtCsn05"
      }
    },
    {
      "cell_type": "code",
      "source": [
        "class Person:\n",
        "  number_of_people = 0# class attribute\n",
        "\n",
        "  def __init__(self, name):\n",
        "    self.name = name\n",
        "    Person.number_of_people += 1\n",
        "\n",
        "\n",
        "p1 = Person('Tim')\n",
        "print(Person.number_of_people)\n",
        "p2 = Person('Robin')\n",
        "print(Person.number_of_people)"
      ],
      "metadata": {
        "colab": {
          "base_uri": "https://localhost:8080/"
        },
        "id": "D6uCtjBDswWe",
        "outputId": "277fafa4-cf10-4b9c-fa28-065f62082c09"
      },
      "execution_count": 71,
      "outputs": [
        {
          "output_type": "stream",
          "name": "stdout",
          "text": [
            "1\n",
            "2\n"
          ]
        }
      ]
    },
    {
      "cell_type": "markdown",
      "source": [
        "## 2). Class Method"
      ],
      "metadata": {
        "id": "SOiNfPvFw21Y"
      }
    },
    {
      "cell_type": "code",
      "source": [
        "class Person:\n",
        "  number_of_people = 0# class attribute\n",
        "\n",
        "  def __init__(self, name):\n",
        "    self.name = name\n",
        "    Person.add_person()\n",
        "\n",
        "  @classmethod\n",
        "  def number_of_people_(cls):\n",
        "    return cls.name  \n",
        "\n",
        "  @classmethod\n",
        "  def add_person(cls):\n",
        "    cls.number_of people += 1  \n",
        "\n",
        "\n",
        "p1 = Person('Tim')\n",
        "print(Person.number_of_people)\n",
        "p2 = Person('Robin')\n",
        "print(Person.number_of_people)"
      ],
      "metadata": {
        "colab": {
          "base_uri": "https://localhost:8080/",
          "height": 130
        },
        "id": "fvQVmobNw8JY",
        "outputId": "cb079e1e-47da-42c8-c72c-1984ced6eed0"
      },
      "execution_count": 74,
      "outputs": [
        {
          "output_type": "error",
          "ename": "SyntaxError",
          "evalue": "ignored",
          "traceback": [
            "\u001b[0;36m  File \u001b[0;32m\"<ipython-input-74-3362be349c57>\"\u001b[0;36m, line \u001b[0;32m14\u001b[0m\n\u001b[0;31m    cls.number_of people += 1\u001b[0m\n\u001b[0m                       ^\u001b[0m\n\u001b[0;31mSyntaxError\u001b[0m\u001b[0;31m:\u001b[0m invalid syntax\n"
          ]
        }
      ]
    },
    {
      "cell_type": "markdown",
      "source": [
        "## static method\n"
      ],
      "metadata": {
        "id": "H7h2N2kByGcu"
      }
    },
    {
      "cell_type": "code",
      "source": [
        "class Math:\n",
        "  \n",
        "  @staticmethod\n",
        "  def add5(x):\n",
        "    return x+5\n",
        "\n",
        "\n",
        "  @staticmethod\n",
        "  def add5(x):\n",
        "    return x+5\n",
        "\n",
        "print(Math.add5(19991))      "
      ],
      "metadata": {
        "colab": {
          "base_uri": "https://localhost:8080/"
        },
        "id": "87_eRdplyJqB",
        "outputId": "b652868d-a5f0-4da7-ed3d-0ce25307e0ce"
      },
      "execution_count": 82,
      "outputs": [
        {
          "output_type": "stream",
          "name": "stdout",
          "text": [
            "2004\n"
          ]
        }
      ]
    },
    {
      "cell_type": "code",
      "source": [],
      "metadata": {
        "id": "mSo3-I79zmAm"
      },
      "execution_count": null,
      "outputs": []
    }
  ]
}